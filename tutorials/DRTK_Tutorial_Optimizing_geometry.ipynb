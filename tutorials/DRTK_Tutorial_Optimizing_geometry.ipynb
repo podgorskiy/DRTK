{
 "cells": [
  {
   "cell_type": "markdown",
   "metadata": {
    "customInput": null,
    "language": "markdown",
    "originalKey": "bd19265c-0bb2-4c2a-a8b9-00c48d8c6229",
    "showInput": true
   },
   "source": [
    "# Simplest Case of Geometry Optimization"
   ]
  },
  {
   "cell_type": "code",
   "execution_count": 20,
   "metadata": {
    "collapsed": false,
    "customInput": null,
    "executionStartTime": 1727676550354,
    "executionStopTime": 1727676550926,
    "language": "python",
    "originalKey": "d060863f-8909-4fa3-945d-b9194d084482",
    "outputsInitialized": true,
    "requestMsgId": "d060863f-8909-4fa3-945d-b9194d084482",
    "serverExecutionDuration": 2.8575300239027,
    "showInput": true
   },
   "outputs": [],
   "source": [
    "import drtk\n",
    "import torch as th\n",
    "import torch.nn.functional as thf\n",
    "from PIL import Image"
   ]
  },
  {
   "cell_type": "code",
   "execution_count": 21,
   "metadata": {
    "collapsed": false,
    "customInput": null,
    "executionStartTime": 1727676550928,
    "executionStopTime": 1727676551568,
    "language": "python",
    "originalKey": "2ff1c78a-566b-41a1-b7b7-3971d94c5a5d",
    "output": {
     "id": "1032647032200976"
    },
    "outputsInitialized": true,
    "requestMsgId": "2ff1c78a-566b-41a1-b7b7-3971d94c5a5d",
    "serverExecutionDuration": 30.361276585609,
    "showInput": true
   },
   "outputs": [
    {
     "data": {
      "image/png": "[encoded data removed]",
      "text/plain": [
       "<PIL.Image.Image image mode=L size=512x512>"
      ]
     },
     "execution_count": 21,
     "metadata": {},
     "output_type": "execute_result"
    }
   ],
   "source": [
    "v = th.as_tensor(\n",
    "    [[70, 110, 10], [400, 60, 10], [300, 400, 10]], dtype=th.float32\n",
    ").cuda()[None]\n",
    "vi = th.as_tensor([[0, 1, 2]], dtype=th.int32).cuda()\n",
    "\n",
    "index_img = drtk.rasterize(v, vi, width=512, height=512)\n",
    "\n",
    "image_gt = (index_img != -1).float()\n",
    "\n",
    "Image.fromarray(image_gt[0].mul(255).clamp(min=0, max=255).byte().cpu().numpy())"
   ]
  },
  {
   "cell_type": "code",
   "execution_count": 22,
   "metadata": {
    "collapsed": false,
    "customInput": null,
    "executionStartTime": 1727676551571,
    "executionStopTime": 1727676552159,
    "language": "python",
    "originalKey": "41071a42-4316-45a5-9afa-4389829f181d",
    "output": {
     "id": "1042981417322831"
    },
    "outputsInitialized": true,
    "requestMsgId": "41071a42-4316-45a5-9afa-4389829f181d",
    "serverExecutionDuration": 24.705898016691,
    "showInput": true
   },
   "outputs": [
    {
     "data": {
      "image/png": "[encoded data removed]",
      "text/plain": [
       "<PIL.Image.Image image mode=L size=512x512>"
      ]
     },
     "execution_count": 22,
     "metadata": {},
     "output_type": "execute_result"
    }
   ],
   "source": [
    "v = th.as_tensor(\n",
    "    [[120, 60, 10], [400, 200, 10], [100, 300, 10]], dtype=th.float32\n",
    ").cuda()[None]\n",
    "\n",
    "index_img = drtk.rasterize(v, vi, width=512, height=512)\n",
    "depth_img, bary_img = drtk.render(v, vi, index_img)\n",
    "\n",
    "image = (index_img != -1).float()\n",
    "\n",
    "Image.fromarray(image[0].mul(255).clamp(min=0, max=255).byte().cpu().numpy())"
   ]
  },
  {
   "cell_type": "code",
   "execution_count": 23,
   "metadata": {
    "collapsed": false,
    "customInput": null,
    "executionStartTime": 1727676552161,
    "executionStopTime": 1727676552745,
    "language": "python",
    "originalKey": "784d29a4-68a9-409c-a3f0-42bb3b23bc5d",
    "output": {
     "id": "27109421868672485"
    },
    "outputsInitialized": true,
    "requestMsgId": "784d29a4-68a9-409c-a3f0-42bb3b23bc5d",
    "serverExecutionDuration": 9.0473080053926,
    "showInput": true
   },
   "outputs": [
    {
     "data": {
      "image/png": "[encoded data removed]",
      "text/plain": [
       "<PIL.Image.Image image mode=L size=512x512>"
      ]
     },
     "execution_count": 23,
     "metadata": {},
     "output_type": "execute_result"
    }
   ],
   "source": [
    "difference = thf.mse_loss(image, image_gt, reduction=\"none\")\n",
    "\n",
    "Image.fromarray(difference[0].mul(255).clamp(min=0, max=255).byte().cpu().numpy())"
   ]
  },
  {
   "cell_type": "code",
   "execution_count": 24,
   "metadata": {
    "collapsed": false,
    "customInput": null,
    "executionStartTime": 1727676552748,
    "executionStopTime": 1727676553335,
    "language": "python",
    "originalKey": "613b49bf-25d2-4ab1-8c78-180434006c6d",
    "outputsInitialized": true,
    "requestMsgId": "613b49bf-25d2-4ab1-8c78-180434006c6d",
    "serverExecutionDuration": 6.6435839980841,
    "showInput": true
   },
   "outputs": [],
   "source": [
    "v.requires_grad_(True)\n",
    "v.grad = None\n",
    "\n",
    "tensor = []\n",
    "\n",
    "\n",
    "def save_tensor(x: th.Tensor):\n",
    "    tensor.append(x)\n",
    "\n",
    "\n",
    "image_differentiable = drtk.edge_grad_estimator(\n",
    "    v, vi, bary_img, image[:, None], index_img, v_pix_img_hook=save_tensor\n",
    ")\n",
    "difference = thf.mse_loss(image_differentiable, image_gt[:, None], reduction=\"none\")\n",
    "difference.sum().backward()"
   ]
  },
  {
   "cell_type": "code",
   "execution_count": 31,
   "metadata": {
    "collapsed": false,
    "customInput": null,
    "executionStartTime": 1727676580613,
    "executionStopTime": 1727676581189,
    "language": "python",
    "originalKey": "1ef72513-f316-4ced-9efc-5a494b16be52",
    "output": {
     "id": "493355566861809"
    },
    "outputsInitialized": true,
    "requestMsgId": "1ef72513-f316-4ced-9efc-5a494b16be52",
    "serverExecutionDuration": 19.539492670447,
    "showInput": true
   },
   "outputs": [
    {
     "name": "stdout",
     "output_type": "stream",
     "text": [
      "torch.Size([3, 512, 512])\n"
     ]
    },
    {
     "data": {
      "image/png": "[encoded data removed]",
      "text/plain": [
       "<PIL.Image.Image image mode=RGB size=512x512>"
      ]
     },
     "execution_count": 31,
     "metadata": {},
     "output_type": "execute_result"
    }
   ],
   "source": [
    "print(tensor[0][0].shape)\n",
    "Image.fromarray(tensor[0][0].permute(1, 2, 0).mul(.5).add(0.5).mul(255).clamp(min=0, max=255).byte().cpu().numpy())"
   ]
  },
  {
   "cell_type": "code",
   "execution_count": 26,
   "metadata": {
    "collapsed": false,
    "customInput": null,
    "executionStartTime": 1727676553924,
    "executionStopTime": 1727676554506,
    "language": "python",
    "originalKey": "71b8738f-9229-4424-bba8-b8c7bea2be8f",
    "outputsInitialized": true,
    "requestMsgId": "71b8738f-9229-4424-bba8-b8c7bea2be8f",
    "serverExecutionDuration": 3.0001509003341,
    "showInput": true
   },
   "outputs": [],
   "source": []
  }
 ],
 "metadata": {
  "bento_stylesheets": {
   "bento/extensions/flow/main.css": true,
   "bento/extensions/kernel_selector/main.css": true,
   "bento/extensions/kernel_ui/main.css": true,
   "bento/extensions/new_kernel/main.css": true,
   "bento/extensions/system_usage/main.css": true,
   "bento/extensions/theme/main.css": true
  },
  "dataExplorerConfig": [],
  "kernelspec": {
   "display_name": "care_cli",
   "language": "python",
   "metadata": {
    "cinder_runtime": true,
    "default_tagged_version": "990",
    "download_status": "downloaded",
    "fbpkg_supported": true,
    "is_prebuilt": true,
    "kernel_name": "bento_kernel_care_cli",
    "kernel_version": "990",
    "nightly_builds": true
   },
   "name": "bento_kernel_care_cli"
  },
  "language_info": {
   "codemirror_mode": {
    "name": "ipython",
    "version": 3
   },
   "file_extension": ".py",
   "mimetype": "text/x-python",
   "name": "python",
   "nbconvert_exporter": "python",
   "pygments_lexer": "ipython3"
  },
  "last_base_url": "https://bento.edge.x2p.facebook.net/",
  "last_kernel_id": "1929e507-6e59-4823-bf5f-460336e7e272",
  "last_msg_id": "2bfdc402-41e5a68830148a4abdf544b1_515",
  "last_server_session_id": "1997b4be-689a-49ca-bccd-5c37c43bbf55",
  "outputWidgetContext": []
 },
 "nbformat": 4,
 "nbformat_minor": 2
}
